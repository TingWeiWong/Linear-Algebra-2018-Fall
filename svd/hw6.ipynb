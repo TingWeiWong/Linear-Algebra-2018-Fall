{
 "cells": [
  {
   "cell_type": "code",
   "execution_count": 1,
   "metadata": {},
   "outputs": [],
   "source": [
    "from PIL import Image\n",
    "import numpy as np\n",
    "import matplotlib.pyplot as plt"
   ]
  },
  {
   "cell_type": "code",
   "execution_count": 2,
   "metadata": {},
   "outputs": [],
   "source": [
    "def load_image(img_path):\n",
    "    \"\"\"Load image into a 3D numpy array\n",
    "    Arg:\n",
    "        img_path: string, file path of the image file.\n",
    "    Return:\n",
    "        imArr: numpy array with shape (height, width, 3).\n",
    "    \"\"\"\n",
    "    with Image.open(img_path) as im:\n",
    "        imArr = np.fromstring(im.tobytes(), dtype=np.uint8)\n",
    "        imArr = imArr.reshape((im.size[1], im.size[0], 3))\n",
    "    return imArr\n",
    "\n",
    "def save_image(imArr, fpath='output.jpg'):\n",
    "    \"\"\"Save numpy array as a jpeg file\n",
    "    Arg:\n",
    "        imArr: 2d or 3d numpy array, *** it must be np.uint8 and range from [0, 255]. ***\n",
    "        fpath: string, the path to save imgArr.\n",
    "    \"\"\"\n",
    "    im = Image.fromarray(imArr)\n",
    "    im.save(fpath)\n",
    "    \n",
    "def plot_curve(k, err, fpath='curve.png', show=False):\n",
    "    \"\"\"Save the relation curve of k and approx. error to fpath\n",
    "    Arg:\n",
    "        k: a list of k, in this homework, it should be [1, 5, 50, 150, 400, 1050, 1289]\n",
    "        err: a list of aprroximation error corresponding to k = 1, 5, 50, 150, 400, 1050, 1289\n",
    "        fpath: string, the path to save curve\n",
    "        show: boolean, if True: display the plot else save the plot to fpath\n",
    "    \"\"\"\n",
    "    plt.gcf().clear()\n",
    "    plt.plot(k, err, marker='.')\n",
    "    plt.title('SVD compression')\n",
    "    plt.xlabel('k')\n",
    "    plt.ylabel('Approx. error')\n",
    "    if show:\n",
    "        plt.show()\n",
    "    else:\n",
    "        plt.savefig(fpath, dpi=300)\n",
    "    \n",
    "def approx_error(imArr, imArr_compressed):\n",
    "    \"\"\"Calculate approximation error \n",
    "    Arg:\n",
    "        Two numpy arrays\n",
    "    Return:\n",
    "        A float number, approximation error\n",
    "    \"\"\"\n",
    "    v = imArr.ravel().astype(float)\n",
    "    u = imArr_compressed.ravel().astype(float)\n",
    "    return np.linalg.norm(v - u) / len(v)"
   ]
  },
  {
   "cell_type": "code",
   "execution_count": 3,
   "metadata": {},
   "outputs": [],
   "source": [
    "def svd_compress(imArr):\n",
    "    \"\"\"Compress image array using SVD decomposition.\n",
    "    Arg:\n",
    "        imArr: numpy array with shape (height, width, 3).\n",
    "    Return:\n",
    "        Compressed imArr: numpy array.\n",
    "    \"\"\"\n",
    "    imArr_compressed = np.zeros(imArr.shape)\n",
    "    # For each channel\n",
    "    for ch in range(3):\n",
    "        # --------------------\n",
    "        # TODO: \n",
    "        #     Compress the image array using SVD decomposition\n",
    "        # hint:\n",
    "        #     1. numpy.linalg.svd\n",
    "        #     2. numpy.diag\n",
    "        #     3. numpy.dot\n",
    "        #\n",
    "        # Your code here\n",
    "        # imArr_compressed = ??\n",
    "        # \n",
    "        # --------------------\n",
    "        \n",
    "        # Make imArr_compressed range from 0 to 255\n",
    "        imArr_compressed[:, :, ch] -= imArr_compressed[:, :, ch].min()\n",
    "        imArr_compressed[:, :, ch] /= imArr_compressed[:, :, ch].max()\n",
    "        imArr_compressed[:, :, ch] *= 255\n",
    "        # Return uint8 because save_image needs input of type uint8\n",
    "    return imArr_compressed.astype(np.uint8)"
   ]
  },
  {
   "cell_type": "code",
   "execution_count": 5,
   "metadata": {},
   "outputs": [],
   "source": [
    "# from hw6_r07922022 import svd_compress\n",
    "\n",
    "# img_path = 'img/LinusTorvalds.jpg'\n",
    "# imArr = load_image(img_path)\n",
    "\n",
    "# ks = [1, 5, 50, 150, 400, 1050, 1289]\n",
    "# err = []\n",
    "# for k in ks: \n",
    "#     print(\"Perform SVD for k=%d ...\" % k, end='\\r')\n",
    "#     imArr_compressed = svd_compress(imArr, K=k)\n",
    "#     err += [approx_error(imArr, imArr_compressed)]\n",
    "#     save_image(imArr_compressed, 'result_{}.jpg'.format(k))"
   ]
  },
  {
   "cell_type": "code",
   "execution_count": null,
   "metadata": {},
   "outputs": [],
   "source": []
  }
 ],
 "metadata": {
  "kernelspec": {
   "display_name": "Python 3",
   "language": "python",
   "name": "python3"
  },
  "language_info": {
   "codemirror_mode": {
    "name": "ipython",
    "version": 3
   },
   "file_extension": ".py",
   "mimetype": "text/x-python",
   "name": "python",
   "nbconvert_exporter": "python",
   "pygments_lexer": "ipython3",
   "version": "3.6.5"
  }
 },
 "nbformat": 4,
 "nbformat_minor": 2
}
